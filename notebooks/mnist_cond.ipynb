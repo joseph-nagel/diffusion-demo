{
 "cells": [
  {
   "cell_type": "markdown",
   "id": "bc4f2046",
   "metadata": {},
   "source": [
    "# Conditional DDPM (MNIST)"
   ]
  },
  {
   "cell_type": "code",
   "execution_count": null,
   "id": "01e025d5",
   "metadata": {},
   "outputs": [],
   "source": [
    "%load_ext autoreload\n",
    "%autoreload 2\n",
    "%matplotlib inline\n",
    "\n",
    "import sys\n",
    "sys.path.append('..')"
   ]
  },
  {
   "cell_type": "code",
   "execution_count": null,
   "id": "b538b570",
   "metadata": {},
   "outputs": [],
   "source": [
    "import matplotlib.pyplot as plt\n",
    "import torch\n",
    "from lightning.pytorch import seed_everything\n",
    "\n",
    "from diffusion import MNISTDataModule, DDPM2d"
   ]
  },
  {
   "cell_type": "code",
   "execution_count": null,
   "id": "0ad292e1-9882-4871-af82-28ef890382a0",
   "metadata": {},
   "outputs": [],
   "source": [
    "_ = seed_everything(111111)  # set random seeds manually"
   ]
  },
  {
   "cell_type": "markdown",
   "id": "6f7e6e76",
   "metadata": {},
   "source": [
    "## MNIST data"
   ]
  },
  {
   "cell_type": "code",
   "execution_count": null,
   "id": "3a2c1a92",
   "metadata": {},
   "outputs": [],
   "source": [
    "mnist = MNISTDataModule(\n",
    "    data_dir='../run/data/',\n",
    "    mean=None,\n",
    "    std=None,\n",
    "    random_state=42,\n",
    "    batch_size=32\n",
    ")\n",
    "\n",
    "mnist.prepare_data()  # download data if not yet done\n",
    "mnist.setup(stage='test')  # create test set"
   ]
  },
  {
   "cell_type": "code",
   "execution_count": null,
   "id": "99d262e3",
   "metadata": {},
   "outputs": [],
   "source": [
    "test_loader = mnist.test_dataloader()\n",
    "x_batch, y_batch = next(iter(test_loader))\n",
    "image_shape = x_batch.shape[1:]"
   ]
  },
  {
   "cell_type": "code",
   "execution_count": null,
   "id": "628a366c",
   "metadata": {},
   "outputs": [],
   "source": [
    "fig, axes = plt.subplots(nrows=5, ncols=5, figsize=(5, 5))\n",
    "for idx, ax in enumerate(axes.ravel()):\n",
    "    image = x_batch[idx, 0].numpy()\n",
    "    ax.imshow(image, cmap='gray', vmin=0, vmax=1)\n",
    "    ax.set(xticks=[], yticks=[], xlabel='', ylabel='')\n",
    "fig.tight_layout()"
   ]
  },
  {
   "cell_type": "markdown",
   "id": "39de1793",
   "metadata": {},
   "source": [
    "## DDPM import"
   ]
  },
  {
   "cell_type": "code",
   "execution_count": null,
   "id": "024fa07b",
   "metadata": {},
   "outputs": [],
   "source": [
    "ckpt_file = '../run/mnist_cond/version_0/checkpoints/last.ckpt'\n",
    "\n",
    "device = torch.device('cuda:0' if torch.cuda.is_available() else 'cpu')\n",
    "\n",
    "ddpm = DDPM2d.load_from_checkpoint(ckpt_file)\n",
    "\n",
    "ddpm = ddpm.eval()\n",
    "ddpm = ddpm.to(device)"
   ]
  },
  {
   "cell_type": "markdown",
   "id": "bd9dc2bb",
   "metadata": {},
   "source": [
    "## Generative process"
   ]
  },
  {
   "cell_type": "code",
   "execution_count": null,
   "id": "10e73990",
   "metadata": {},
   "outputs": [],
   "source": [
    "cids = torch.tensor([1, 2, 3, 4, 5])  # set targets\n",
    "\n",
    "x_noise = torch.randn(len(cids), *image_shape)\n",
    "x_denoise = ddpm.denoise_all_steps(x_noise.to(device), cids=cids).cpu()"
   ]
  },
  {
   "cell_type": "code",
   "execution_count": null,
   "id": "4d1487a1",
   "metadata": {},
   "outputs": [],
   "source": [
    "plot_steps = [0, 20, 50, 100, 200, 500, 1000]\n",
    "\n",
    "reverse_plot_steps = [ddpm.num_steps - s for s in reversed(plot_steps)]\n",
    "\n",
    "fig, axes = plt.subplots(nrows=len(cids), ncols=len(reverse_plot_steps), figsize=(9, 8))\n",
    "for row_idx in range(len(axes)):\n",
    "    for time_idx, ax in zip(reverse_plot_steps, axes[row_idx]):\n",
    "        image = x_denoise[time_idx, row_idx, 0].numpy()\n",
    "        ax.imshow(image, cmap='gray')\n",
    "        ax.set_title('{} steps'.format(time_idx))\n",
    "        ax.set(xticks=[], yticks=[], xlabel='', ylabel='')\n",
    "fig.tight_layout()"
   ]
  },
  {
   "cell_type": "code",
   "execution_count": null,
   "id": "c436cac6",
   "metadata": {},
   "outputs": [],
   "source": [
    "num_repeats = 5\n",
    "cids = torch.arange(10).repeat_interleave(num_repeats)  # set targets\n",
    "\n",
    "x_gen = ddpm.generate(\n",
    "    sample_shape=image_shape,\n",
    "    cids=cids,\n",
    "    num_samples=len(cids)\n",
    ").cpu()"
   ]
  },
  {
   "cell_type": "code",
   "execution_count": null,
   "id": "b7ca6612",
   "metadata": {},
   "outputs": [],
   "source": [
    "fig, axes = plt.subplots(nrows=num_repeats, ncols=10, figsize=(10, num_repeats))\n",
    "for idx, ax in enumerate(axes.T.ravel()):\n",
    "    image = x_gen[idx, 0].numpy()\n",
    "    ax.imshow(image, cmap='gray', vmin=0, vmax=1)\n",
    "    ax.set(xticks=[], yticks=[], xlabel='', ylabel='')\n",
    "fig.tight_layout()"
   ]
  }
 ],
 "metadata": {
  "kernelspec": {
   "display_name": "Python 3 (ipykernel)",
   "language": "python",
   "name": "python3"
  },
  "language_info": {
   "codemirror_mode": {
    "name": "ipython",
    "version": 3
   },
   "file_extension": ".py",
   "mimetype": "text/x-python",
   "name": "python",
   "nbconvert_exporter": "python",
   "pygments_lexer": "ipython3",
   "version": "3.12.2"
  }
 },
 "nbformat": 4,
 "nbformat_minor": 5
}
